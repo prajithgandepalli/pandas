{
 "cells": [
  {
   "cell_type": "code",
   "execution_count": 2,
   "id": "1af58c2b-7f6e-4030-bf1a-77269e827305",
   "metadata": {},
   "outputs": [
    {
     "name": "stdout",
     "output_type": "stream",
     "text": [
      "[10 20 30]\n",
      "[10, 20, 30]\n",
      "['a', 'b', 'c']\n"
     ]
    }
   ],
   "source": [
    "import numpy as np\n",
    "import pandas as pd\n",
    "my_data = [10,20,30]\n",
    "labels = ['a','b','c']\n",
    "arr = np.array(my_data)\n",
    "print(arr)\n",
    "print(my_data)\n",
    "print(labels)"
   ]
  },
  {
   "cell_type": "code",
   "execution_count": 12,
   "id": "d2dd942b-4fa7-40db-a64a-6bd6fd3cf454",
   "metadata": {},
   "outputs": [
    {
     "data": {
      "text/plain": [
       "a    10\n",
       "b    20\n",
       "c    30\n",
       "dtype: int64"
      ]
     },
     "execution_count": 12,
     "metadata": {},
     "output_type": "execute_result"
    }
   ],
   "source": [
    "pd.Series(my_data,labels)"
   ]
  },
  {
   "cell_type": "code",
   "execution_count": 18,
   "id": "c607eb9b-49a3-45ef-93ca-efc11e7816d2",
   "metadata": {},
   "outputs": [
    {
     "data": {
      "text/plain": [
       "a    10\n",
       "b    20\n",
       "c    30\n",
       "dtype: int64"
      ]
     },
     "execution_count": 18,
     "metadata": {},
     "output_type": "execute_result"
    }
   ],
   "source": [
    "pd.Series(arr,labels)"
   ]
  },
  {
   "cell_type": "code",
   "execution_count": 28,
   "id": "2380f62c-4527-4697-8886-002148d94c60",
   "metadata": {},
   "outputs": [
    {
     "name": "stdout",
     "output_type": "stream",
     "text": [
      "          W         X         Y         Z\n",
      "A  0.516399  0.570668  0.028474  0.171522\n",
      "B  0.685277  0.833897  0.306966  0.893613\n",
      "C  0.721544  0.189939  0.554228  0.352132\n",
      "D  0.181892  0.785602  0.965483  0.232354\n",
      "E  0.083561  0.603548  0.728993  0.276239\n",
      "A    0.570668\n",
      "B    0.833897\n",
      "C    0.189939\n",
      "D    0.785602\n",
      "E    0.603548\n",
      "Name: X, dtype: float64\n",
      "          W         X         Y         Z       new\n",
      "A  0.516399  0.570668  0.028474  0.171522  1.087066\n",
      "B  0.685277  0.833897  0.306966  0.893613  1.519174\n",
      "C  0.721544  0.189939  0.554228  0.352132  0.911483\n",
      "D  0.181892  0.785602  0.965483  0.232354  0.967494\n",
      "E  0.083561  0.603548  0.728993  0.276239  0.687110\n"
     ]
    }
   ],
   "source": [
    "np.random.seed(101)\n",
    "matrix_data = np.random.rand(5,4)\n",
    "row_labels = ['A','B','C','D','E']\n",
    "column_headings = ['W','X','Y','Z']\n",
    "df = pd.DataFrame(matrix_data,index = row_labels,columns = column_headings)\n",
    "print(df)\n",
    "print(df.X)\n",
    "df['new'] = df['W'] + df['X']\n",
    "print(df)"
   ]
  },
  {
   "cell_type": "code",
   "execution_count": 38,
   "id": "7ddb2bb8-70a3-4622-8858-dec31fdfd830",
   "metadata": {},
   "outputs": [
    {
     "name": "stdout",
     "output_type": "stream",
     "text": [
      "          W         X         Y         Z       new\n",
      "A  0.516399  0.570668  0.028474  0.171522  1.087066\n",
      "B  0.685277  0.833897  0.306966  0.893613  1.519174\n",
      "C  0.721544  0.189939  0.554228  0.352132  0.911483\n",
      "D  0.181892  0.785602  0.965483  0.232354  0.967494\n",
      "E  0.083561  0.603548  0.728993  0.276239  0.687110\n",
      "          W         X         Y         Z\n",
      "A  0.516399  0.570668  0.028474  0.171522\n",
      "B  0.685277  0.833897  0.306966  0.893613\n",
      "C  0.721544  0.189939  0.554228  0.352132\n",
      "D  0.181892  0.785602  0.965483  0.232354\n",
      "E  0.083561  0.603548  0.728993  0.276239\n",
      "          W         X         Y         Z\n",
      "B  0.685277  0.833897  0.306966  0.893613\n",
      "C  0.721544  0.189939  0.554228  0.352132\n",
      "D  0.181892  0.785602  0.965483  0.232354\n",
      "E  0.083561  0.603548  0.728993  0.276239\n"
     ]
    }
   ],
   "source": [
    "np.random.seed(101)\n",
    "matrix_data = np.random.rand(5,4)\n",
    "row_labels = ['A','B','C','D','E']\n",
    "column_headings = ['W','X','Y','Z']\n",
    "df = pd.DataFrame(matrix_data,index = row_labels,columns = column_headings)\n",
    "df['new'] = df['W'] + df['X']\n",
    "print(df)\n",
    "df.drop('new',axis=1,inplace=True)\n",
    "print(df)\n",
    "df.drop('A',axis=0,inplace=True)\n",
    "print(df)"
   ]
  },
  {
   "cell_type": "code",
   "execution_count": 49,
   "id": "f8733b26-95b4-4912-8890-8906ffac039a",
   "metadata": {},
   "outputs": [
    {
     "name": "stdout",
     "output_type": "stream",
     "text": [
      "          W         X         Y         Z       new\n",
      "A  0.516399  0.570668  0.028474  0.171522  1.087066\n",
      "B  0.685277  0.833897  0.306966  0.893613  1.519174\n",
      "C  0.721544  0.189939  0.554228  0.352132  0.911483\n",
      "D  0.181892  0.785602  0.965483  0.232354  0.967494\n",
      "E  0.083561  0.603548  0.728993  0.276239  0.687110\n",
      "W      0.721544\n",
      "X      0.189939\n",
      "Y      0.554228\n",
      "Z      0.352132\n",
      "new    0.911483\n",
      "Name: C, dtype: float64\n",
      "          W         X         Y         Z       new\n",
      "C  0.721544  0.189939  0.554228  0.352132  0.911483\n",
      "D  0.181892  0.785602  0.965483  0.232354  0.967494\n",
      "W      0.721544\n",
      "X      0.189939\n",
      "Y      0.554228\n",
      "Z      0.352132\n",
      "new    0.911483\n",
      "Name: C, dtype: float64\n"
     ]
    }
   ],
   "source": [
    "np.random.seed(101)\n",
    "matrix_data = np.random.rand(5,4)\n",
    "row_labels = ['A','B','C','D','E']\n",
    "column_headings = ['W','X','Y','Z']\n",
    "df = pd.DataFrame(matrix_data,index = row_labels,columns = column_headings)\n",
    "df['new'] = df['W'] + df['X']\n",
    "print(df)\n",
    "print(df.loc['C'])\n",
    "print(df.loc[['C','D']])\n",
    "print(df.iloc[2]) # indexing based"
   ]
  },
  {
   "cell_type": "code",
   "execution_count": 59,
   "id": "993b22f2-bf50-4576-9edd-f9386fe0fe78",
   "metadata": {},
   "outputs": [
    {
     "name": "stdout",
     "output_type": "stream",
     "text": [
      "          W         X         Y         Z       new\n",
      "A  0.516399  0.570668  0.028474  0.171522  1.087066\n",
      "B  0.685277  0.833897  0.306966  0.893613  1.519174\n",
      "C  0.721544  0.189939  0.554228  0.352132  0.911483\n",
      "D  0.181892  0.785602  0.965483  0.232354  0.967494\n",
      "E  0.083561  0.603548  0.728993  0.276239  0.687110\n",
      "0.18189240266007867\n"
     ]
    },
    {
     "data": {
      "text/html": [
       "<div>\n",
       "<style scoped>\n",
       "    .dataframe tbody tr th:only-of-type {\n",
       "        vertical-align: middle;\n",
       "    }\n",
       "\n",
       "    .dataframe tbody tr th {\n",
       "        vertical-align: top;\n",
       "    }\n",
       "\n",
       "    .dataframe thead th {\n",
       "        text-align: right;\n",
       "    }\n",
       "</style>\n",
       "<table border=\"1\" class=\"dataframe\">\n",
       "  <thead>\n",
       "    <tr style=\"text-align: right;\">\n",
       "      <th></th>\n",
       "      <th>X</th>\n",
       "      <th>Z</th>\n",
       "    </tr>\n",
       "  </thead>\n",
       "  <tbody>\n",
       "    <tr>\n",
       "      <th>B</th>\n",
       "      <td>0.833897</td>\n",
       "      <td>0.893613</td>\n",
       "    </tr>\n",
       "    <tr>\n",
       "      <th>D</th>\n",
       "      <td>0.785602</td>\n",
       "      <td>0.232354</td>\n",
       "    </tr>\n",
       "  </tbody>\n",
       "</table>\n",
       "</div>"
      ],
      "text/plain": [
       "          X         Z\n",
       "B  0.833897  0.893613\n",
       "D  0.785602  0.232354"
      ]
     },
     "execution_count": 59,
     "metadata": {},
     "output_type": "execute_result"
    }
   ],
   "source": [
    "np.random.seed(101)\n",
    "matrix_data = np.random.rand(5,4)\n",
    "row_labels = ['A','B','C','D','E']\n",
    "column_headings = ['W','X','Y','Z']\n",
    "df = pd.DataFrame(matrix_data,index = row_labels,columns = column_headings)\n",
    "df['new'] = df['W'] + df['X']\n",
    "print(df)\n",
    "print(df.loc['D','W']) # show that particular index of row D and column \n",
    "df.loc[['B','D'],['X','Z']]"
   ]
  },
  {
   "cell_type": "code",
   "execution_count": 63,
   "id": "e9425960-0b55-4b8b-a1e7-23bc9d4168b8",
   "metadata": {},
   "outputs": [
    {
     "name": "stdout",
     "output_type": "stream",
     "text": [
      "Original DataFrame:\n",
      "     A    B   C\n",
      "0  1.0  5.0   9\n",
      "1  2.0  NaN  10\n",
      "2  NaN  NaN  11\n",
      "3  4.0  8.0  12\n",
      "\n",
      "DataFrame after dropping rows with NaN:\n",
      "     A    B   C\n",
      "0  1.0  5.0   9\n",
      "3  4.0  8.0  12\n"
     ]
    }
   ],
   "source": [
    "import pandas as pd\n",
    "import numpy as np\n",
    "data = {'A': [1, 2, np.nan, 4], \n",
    "        'B': [5, np.nan, np.nan, 8], \n",
    "        'C': [9, 10, 11, 12]}\n",
    "\n",
    "df = pd.DataFrame(data)\n",
    "print(\"Original DataFrame:\")\n",
    "print(df)\n",
    "df_cleaned = df.dropna(axis=0)\n",
    "print(\"\\nDataFrame after dropping rows with NaN:\")\n",
    "print(df_cleaned)"
   ]
  },
  {
   "cell_type": "code",
   "execution_count": 113,
   "id": "125f9fb7-5e6e-49df-95c7-53ce969cb54f",
   "metadata": {},
   "outputs": [
    {
     "name": "stdout",
     "output_type": "stream",
     "text": [
      "Original DataFrame:\n",
      "     A    B   C\n",
      "0  1.0  5.0   9\n",
      "1  2.0  NaN  10\n",
      "2  NaN  NaN  11\n",
      "3  4.0  8.0  12\n",
      "       A      B      C\n",
      "0  False  False  False\n",
      "1  False   True  False\n",
      "2   True   True  False\n",
      "3  False  False  False\n"
     ]
    },
    {
     "data": {
      "text/html": [
       "<div>\n",
       "<style scoped>\n",
       "    .dataframe tbody tr th:only-of-type {\n",
       "        vertical-align: middle;\n",
       "    }\n",
       "\n",
       "    .dataframe tbody tr th {\n",
       "        vertical-align: top;\n",
       "    }\n",
       "\n",
       "    .dataframe thead th {\n",
       "        text-align: right;\n",
       "    }\n",
       "</style>\n",
       "<table border=\"1\" class=\"dataframe\">\n",
       "  <thead>\n",
       "    <tr style=\"text-align: right;\">\n",
       "      <th></th>\n",
       "      <th>A</th>\n",
       "      <th>B</th>\n",
       "      <th>C</th>\n",
       "    </tr>\n",
       "  </thead>\n",
       "  <tbody>\n",
       "    <tr>\n",
       "      <th>0</th>\n",
       "      <td>1.000000</td>\n",
       "      <td>5.000000</td>\n",
       "      <td>9</td>\n",
       "    </tr>\n",
       "    <tr>\n",
       "      <th>1</th>\n",
       "      <td>2.000000</td>\n",
       "      <td>2.333333</td>\n",
       "      <td>10</td>\n",
       "    </tr>\n",
       "    <tr>\n",
       "      <th>2</th>\n",
       "      <td>2.333333</td>\n",
       "      <td>2.333333</td>\n",
       "      <td>11</td>\n",
       "    </tr>\n",
       "    <tr>\n",
       "      <th>3</th>\n",
       "      <td>4.000000</td>\n",
       "      <td>8.000000</td>\n",
       "      <td>12</td>\n",
       "    </tr>\n",
       "  </tbody>\n",
       "</table>\n",
       "</div>"
      ],
      "text/plain": [
       "          A         B   C\n",
       "0  1.000000  5.000000   9\n",
       "1  2.000000  2.333333  10\n",
       "2  2.333333  2.333333  11\n",
       "3  4.000000  8.000000  12"
      ]
     },
     "execution_count": 113,
     "metadata": {},
     "output_type": "execute_result"
    }
   ],
   "source": [
    "import pandas as pd\n",
    "import numpy as np\n",
    "data = {'A': [1, 2, np.nan, 4], \n",
    "        'B': [5, np.nan, np.nan, 8], \n",
    "        'C': [9, 10, 11, 12]}\n",
    "\n",
    "df = pd.DataFrame(data)\n",
    "print(\"Original DataFrame:\")\n",
    "print(df)\n",
    "print(df.isnull())\n",
    "df.fillna(value=df.A.mean())"
   ]
  },
  {
   "cell_type": "code",
   "execution_count": 67,
   "id": "fac59fad-8790-474b-a00e-1b457733e2a5",
   "metadata": {},
   "outputs": [
    {
     "name": "stdout",
     "output_type": "stream",
     "text": [
      "Original DataFrame:\n",
      "  Category  Values\n",
      "0        A      10\n",
      "1        B      20\n",
      "2        A      15\n",
      "3        B      25\n",
      "4        A      30\n",
      "5        C      35\n",
      "\n",
      "Grouped DataFrame (Sum):\n",
      "          Values\n",
      "Category        \n",
      "A             55\n",
      "B             45\n",
      "C             35\n"
     ]
    }
   ],
   "source": [
    "import pandas as pd\n",
    "\n",
    "# Sample Data\n",
    "data = {'Category': ['A', 'B', 'A', 'B', 'A', 'C'],\n",
    "        'Values': [10, 20, 15, 25, 30, 35]}\n",
    "\n",
    "df = pd.DataFrame(data)\n",
    "print(\"Original DataFrame:\")\n",
    "print(df)\n",
    "\n",
    "# Grouping by 'Category' and summing values\n",
    "grouped_df = df.groupby('Category').sum()\n",
    "print(\"\\nGrouped DataFrame (Sum):\")\n",
    "print(grouped_df)\n"
   ]
  },
  {
   "cell_type": "code",
   "execution_count": 68,
   "id": "341a2006-7a29-4d24-8e8d-4fda0a52ed2d",
   "metadata": {},
   "outputs": [
    {
     "name": "stdout",
     "output_type": "stream",
     "text": [
      "\n",
      "Grouped DataFrame (Multiple Aggregations):\n",
      "         Values                 \n",
      "            sum       mean count\n",
      "Category                        \n",
      "A            55  18.333333     3\n",
      "B            45  22.500000     2\n",
      "C            35  35.000000     1\n"
     ]
    }
   ],
   "source": [
    "grouped_df = df.groupby('Category').agg(['sum', 'mean', 'count'])\n",
    "print(\"\\nGrouped DataFrame (Multiple Aggregations):\")\n",
    "print(grouped_df)"
   ]
  },
  {
   "cell_type": "code",
   "execution_count": 69,
   "id": "c1f27a8e-95a5-44ba-b9f0-7d40246ad015",
   "metadata": {},
   "outputs": [
    {
     "name": "stdout",
     "output_type": "stream",
     "text": [
      "\n",
      "Original DataFrame:\n",
      "  Category SubCategory  Values\n",
      "0        A           X      10\n",
      "1        A           Y      20\n",
      "2        B           X      15\n",
      "3        B           Y      25\n",
      "4        C           X      30\n",
      "5        C           Y      35\n",
      "\n",
      "Grouped DataFrame (Multiple Columns):\n",
      "                      Values\n",
      "Category SubCategory        \n",
      "A        X                10\n",
      "         Y                20\n",
      "B        X                15\n",
      "         Y                25\n",
      "C        X                30\n",
      "         Y                35\n"
     ]
    }
   ],
   "source": [
    "data = {'Category': ['A', 'A', 'B', 'B', 'C', 'C'],\n",
    "        'SubCategory': ['X', 'Y', 'X', 'Y', 'X', 'Y'],\n",
    "        'Values': [10, 20, 15, 25, 30, 35]}\n",
    "\n",
    "df = pd.DataFrame(data)\n",
    "print(\"\\nOriginal DataFrame:\")\n",
    "print(df)\n",
    "\n",
    "# Grouping by 'Category' and 'SubCategory'\n",
    "grouped_df = df.groupby(['Category', 'SubCategory']).sum()\n",
    "print(\"\\nGrouped DataFrame (Multiple Columns):\")\n",
    "print(grouped_df)\n"
   ]
  },
  {
   "cell_type": "code",
   "execution_count": 72,
   "id": "c15cc73a-306c-4510-8dc5-f31435e3be19",
   "metadata": {},
   "outputs": [
    {
     "name": "stdout",
     "output_type": "stream",
     "text": [
      "   A  B\n",
      "0  1  3\n",
      "1  2  4\n",
      "   A  B\n",
      "0  5  7\n",
      "1  6  8\n",
      "   A  B\n",
      "0  1  3\n",
      "1  2  4\n",
      "2  5  7\n",
      "3  6  8\n"
     ]
    }
   ],
   "source": [
    "import pandas as pd\n",
    "\n",
    "# Create two sample DataFrames\n",
    "df1 = pd.DataFrame({\n",
    "    'A': [1, 2],\n",
    "    'B': [3, 4]\n",
    "})\n",
    "\n",
    "df2 = pd.DataFrame({\n",
    "    'A': [5, 6],\n",
    "    'B': [7, 8]\n",
    "})\n",
    "print(df1)\n",
    "print(df2)\n",
    "# Concatenate along rows (axis = 0)\n",
    "result = pd.concat([df1, df2], axis=0, ignore_index=True)\n",
    "print(result)\n"
   ]
  },
  {
   "cell_type": "code",
   "execution_count": 73,
   "id": "80e0353c-ee58-4a48-a04c-25f2cde3cbe7",
   "metadata": {},
   "outputs": [
    {
     "name": "stdout",
     "output_type": "stream",
     "text": [
      "   A  B\n",
      "0  1  3\n",
      "1  2  4\n",
      "   A  B\n",
      "0  5  7\n",
      "1  6  8\n",
      "   A  B  A  B\n",
      "0  1  3  5  7\n",
      "1  2  4  6  8\n"
     ]
    }
   ],
   "source": [
    "import pandas as pd\n",
    "\n",
    "# Create two sample DataFrames\n",
    "df1 = pd.DataFrame({\n",
    "    'A': [1, 2],\n",
    "    'B': [3, 4]\n",
    "})\n",
    "\n",
    "df2 = pd.DataFrame({\n",
    "    'A': [5, 6],\n",
    "    'B': [7, 8]\n",
    "})\n",
    "print(df1)\n",
    "print(df2)\n",
    "# Concatenate along columns (axis = 1)\n",
    "result = pd.concat([df1, df2], axis=1)\n",
    "print(result)"
   ]
  },
  {
   "cell_type": "code",
   "execution_count": 86,
   "id": "2971c7c7-b0ef-4222-ad07-4dfe91783d5e",
   "metadata": {},
   "outputs": [
    {
     "name": "stdout",
     "output_type": "stream",
     "text": [
      "   ID     Name  Age\n",
      "0   1    Alice   25\n",
      "1   2      Bob   30\n",
      "2   3  Charlie   35\n",
      "   ID country\n",
      "0   1     USA\n",
      "1   2      UK\n",
      "2   4  Canada\n",
      "   ID   Name  Age country\n",
      "0   1  Alice   25     USA\n",
      "1   2    Bob   30      UK\n",
      "   ID     Name  Age country\n",
      "0   1    Alice   25     USA\n",
      "1   2      Bob   30      UK\n",
      "2   3  Charlie   35     NaN\n",
      "   ID   Name   Age country\n",
      "0   1  Alice  25.0     USA\n",
      "1   2    Bob  30.0      UK\n",
      "2   4    NaN   NaN  Canada\n",
      "   ID     Name   Age country\n",
      "0   1    Alice  25.0     USA\n",
      "1   2      Bob  30.0      UK\n",
      "2   3  Charlie  35.0     NaN\n",
      "3   4      NaN   NaN  Canada\n"
     ]
    }
   ],
   "source": [
    "# merge \n",
    "import pandas as pd\n",
    "df1 = pd.DataFrame({\n",
    "    'ID': [1, 2, 3],\n",
    "    'Name': ['Alice','Bob','Charlie'],\n",
    "    'Age': [25, 30, 35]\n",
    "})\n",
    "df2 = pd.DataFrame({\n",
    "    'ID': [1, 2, 4],\n",
    "    'country': ['USA', 'UK', 'Canada']\n",
    "})\n",
    "print(df1)\n",
    "print(df2)\n",
    "merged_df = pd.merge(df1, df2, on = 'ID', how = 'inner')\n",
    "print(merged_df)\n",
    "merged1_df = pd.merge(df1, df2, on = 'ID', how = 'left')\n",
    "print(merged1_df)\n",
    "merged2_df = pd.merge(df1, df2, on = 'ID', how = 'right')\n",
    "print(merged2_df)\n",
    "merged3_df = pd.merge(df1, df2, on = 'ID', how = 'outer')\n",
    "print(merged3_df)"
   ]
  },
  {
   "cell_type": "code",
   "execution_count": 87,
   "id": "49b5eb17-2bce-4ae1-982e-c593b2c8381d",
   "metadata": {},
   "outputs": [
    {
     "name": "stdout",
     "output_type": "stream",
     "text": [
      "    Name Country\n",
      "1  Alice     USA\n",
      "2    Bob      UK\n"
     ]
    }
   ],
   "source": [
    "# Create DataFrames with indexes\n",
    "df1 = pd.DataFrame({\n",
    "    'Name': ['Alice', 'Bob', 'Charlie'],\n",
    "}, index=[1, 2, 3])\n",
    "\n",
    "df2 = pd.DataFrame({\n",
    "    'Country': ['USA', 'UK', 'Canada']\n",
    "}, index=[1, 2, 4])\n",
    "\n",
    "# Merge using index\n",
    "merged_df = pd.merge(df1, df2, left_index=True, right_index=True, how='inner')\n",
    "print(merged_df)"
   ]
  },
  {
   "cell_type": "code",
   "execution_count": 89,
   "id": "06ad4829-f2f4-4327-b7a3-0067cdbb5805",
   "metadata": {},
   "outputs": [
    {
     "name": "stdout",
     "output_type": "stream",
     "text": [
      "   A  B\n",
      "0  1  x\n",
      "1  2  y\n",
      "2  2  x\n",
      "[1 2 3 4]\n",
      "['x' 'y']\n"
     ]
    }
   ],
   "source": [
    "import pandas as pd\n",
    "\n",
    "# Create a DataFrame\n",
    "data = {'A': [1, 2, 2, 3, 4, 4],\n",
    "        'B': ['x', 'y', 'x', 'z', 'z', 'y']}\n",
    "df = pd.DataFrame(data)\n",
    "print(df.head(3))\n",
    "# Get the unique values in column 'A'\n",
    "print(df['A'].unique())\n",
    "# Get the first 3 rows and unique values in column 'B'\n",
    "print(df.head(3)['B'].unique())\n"
   ]
  },
  {
   "cell_type": "code",
   "execution_count": 90,
   "id": "abd511f7-067d-4f90-b112-932e33a6f17a",
   "metadata": {},
   "outputs": [
    {
     "name": "stdout",
     "output_type": "stream",
     "text": [
      "apple     3\n",
      "banana    3\n",
      "orange    1\n",
      "Name: count, dtype: int64\n"
     ]
    }
   ],
   "source": [
    "import pandas as pd\n",
    "\n",
    "# Create a Series\n",
    "data = ['apple', 'banana', 'apple', 'orange', 'banana', 'banana', 'apple']\n",
    "series = pd.Series(data)\n",
    "\n",
    "# Count occurrences of each unique value\n",
    "value_counts = series.value_counts()\n",
    "\n",
    "print(value_counts)\n"
   ]
  },
  {
   "cell_type": "code",
   "execution_count": 94,
   "id": "a4e2f459-471e-420b-af5a-fbb20cfb1ba1",
   "metadata": {},
   "outputs": [
    {
     "name": "stdout",
     "output_type": "stream",
     "text": [
      "A    10\n",
      "B    26\n",
      "C    42\n",
      "dtype: int64\n",
      "0    15\n",
      "1    18\n",
      "2    21\n",
      "3    24\n",
      "dtype: int64\n"
     ]
    }
   ],
   "source": [
    "import pandas as pd\n",
    "\n",
    "# Create a DataFrame\n",
    "data = {\n",
    "    'A': [1, 2, 3, 4],\n",
    "    'B': [5, 6, 7, 8],\n",
    "    'C': [9, 10, 11, 12]\n",
    "}\n",
    "\n",
    "df = pd.DataFrame(data)\n",
    "\n",
    "# Apply sum function to each column\n",
    "column_sum = df.apply(sum, axis=0)\n",
    "\n",
    "print(column_sum)\n",
    "\n",
    "# Apply sum function to each row\n",
    "row_sum = df.apply(sum, axis=1)\n",
    "\n",
    "print(row_sum)"
   ]
  },
  {
   "cell_type": "code",
   "execution_count": 102,
   "id": "be8b60d6-fc5b-4af5-92b8-35e136d94a84",
   "metadata": {},
   "outputs": [
    {
     "data": {
      "text/html": [
       "<div>\n",
       "<style scoped>\n",
       "    .dataframe tbody tr th:only-of-type {\n",
       "        vertical-align: middle;\n",
       "    }\n",
       "\n",
       "    .dataframe tbody tr th {\n",
       "        vertical-align: top;\n",
       "    }\n",
       "\n",
       "    .dataframe thead th {\n",
       "        text-align: right;\n",
       "    }\n",
       "</style>\n",
       "<table border=\"1\" class=\"dataframe\">\n",
       "  <thead>\n",
       "    <tr style=\"text-align: right;\">\n",
       "      <th></th>\n",
       "      <th>A</th>\n",
       "      <th>B</th>\n",
       "      <th>C</th>\n",
       "    </tr>\n",
       "  </thead>\n",
       "  <tbody>\n",
       "    <tr>\n",
       "      <th>0</th>\n",
       "      <td>1</td>\n",
       "      <td>25</td>\n",
       "      <td>81</td>\n",
       "    </tr>\n",
       "    <tr>\n",
       "      <th>1</th>\n",
       "      <td>4</td>\n",
       "      <td>36</td>\n",
       "      <td>100</td>\n",
       "    </tr>\n",
       "    <tr>\n",
       "      <th>2</th>\n",
       "      <td>9</td>\n",
       "      <td>49</td>\n",
       "      <td>121</td>\n",
       "    </tr>\n",
       "    <tr>\n",
       "      <th>3</th>\n",
       "      <td>16</td>\n",
       "      <td>64</td>\n",
       "      <td>144</td>\n",
       "    </tr>\n",
       "  </tbody>\n",
       "</table>\n",
       "</div>"
      ],
      "text/plain": [
       "    A   B    C\n",
       "0   1  25   81\n",
       "1   4  36  100\n",
       "2   9  49  121\n",
       "3  16  64  144"
      ]
     },
     "execution_count": 102,
     "metadata": {},
     "output_type": "execute_result"
    }
   ],
   "source": [
    "data = {\n",
    "    'A': [1, 2, 3, 4],\n",
    "    'B': [5, 6, 7, 8],\n",
    "    'C': [9, 10, 11, 12]\n",
    "}\n",
    "\n",
    "df = pd.DataFrame(data)\n",
    "\n",
    "def square(x):\n",
    "    return x**2;\n",
    "\n",
    "squared_df = df.apply(square)\n",
    "squared_df"
   ]
  },
  {
   "cell_type": "code",
   "execution_count": 110,
   "id": "fed5b6f3-a435-43f2-a5bb-1759a5da7367",
   "metadata": {},
   "outputs": [
    {
     "name": "stdout",
     "output_type": "stream",
     "text": [
      "   A      B   C     NEWCOL\n",
      "0  1     as   9   0.900000\n",
      "1  2  being  10   1.000000\n",
      "2  3   anor  11  10.413927\n",
      "3  4   thor  12  10.791812\n",
      "   A      B   C  NEWCOL\n",
      "0  1     as   9       2\n",
      "1  2  being  10       5\n",
      "2  3   anor  11       4\n",
      "3  4   thor  12       4\n",
      "   A      B   C    NEWCOL\n",
      "0  1     as   9  1.414214\n",
      "1  2  being  10  2.236068\n",
      "2  3   anor  11  2.000000\n",
      "3  4   thor  12  2.000000\n"
     ]
    }
   ],
   "source": [
    "data = {\n",
    "    'A': [1, 2, 3, 4],\n",
    "    'B': ['as', 'being', 'anor', 'thor'],\n",
    "    'C': [9, 10, 11, 12]\n",
    "}\n",
    "\n",
    "df = pd.DataFrame(data)\n",
    "def testfunc(x):\n",
    "    if(x > 10):\n",
    "        return (10*np.log10(x))\n",
    "    else:\n",
    "        return x/10\n",
    "\n",
    "df['NEWCOL'] = df['C'].apply(testfunc)\n",
    "print(df)\n",
    "df['NEWCOL'] = df['B'].apply(len)\n",
    "print(df)\n",
    "\n",
    "df['NEWCOL'] = df['NEWCOL'].apply(lambda x: np.sqrt(x))\n",
    "print(df)"
   ]
  },
  {
   "cell_type": "code",
   "execution_count": null,
   "id": "3d3b3bc6-a7d5-4e78-b5e5-e75b848df3c7",
   "metadata": {},
   "outputs": [],
   "source": []
  },
  {
   "cell_type": "code",
   "execution_count": null,
   "id": "694297f5-899a-4d64-838a-1f0de19a7cb8",
   "metadata": {},
   "outputs": [],
   "source": []
  }
 ],
 "metadata": {
  "kernelspec": {
   "display_name": "Python 3 (ipykernel)",
   "language": "python",
   "name": "python3"
  },
  "language_info": {
   "codemirror_mode": {
    "name": "ipython",
    "version": 3
   },
   "file_extension": ".py",
   "mimetype": "text/x-python",
   "name": "python",
   "nbconvert_exporter": "python",
   "pygments_lexer": "ipython3",
   "version": "3.12.4"
  }
 },
 "nbformat": 4,
 "nbformat_minor": 5
}
